{
 "cells": [
  {
   "cell_type": "code",
   "execution_count": 3,
   "id": "9d9f3d27-ccfa-4870-aebf-d0b2dad58898",
   "metadata": {
    "scrolled": true
   },
   "outputs": [
    {
     "name": "stdout",
     "output_type": "stream",
     "text": [
      "Requirement already satisfied: pyautogui in /opt/anaconda3/lib/python3.12/site-packages (0.9.54)\n",
      "Requirement already satisfied: pymsgbox in /opt/anaconda3/lib/python3.12/site-packages (from pyautogui) (1.0.9)\n",
      "Requirement already satisfied: pytweening>=1.0.4 in /opt/anaconda3/lib/python3.12/site-packages (from pyautogui) (1.2.0)\n",
      "Requirement already satisfied: pyscreeze>=0.1.21 in /opt/anaconda3/lib/python3.12/site-packages (from pyautogui) (1.0.1)\n",
      "Requirement already satisfied: pygetwindow>=0.0.5 in /opt/anaconda3/lib/python3.12/site-packages (from pyautogui) (0.0.9)\n",
      "Requirement already satisfied: mouseinfo in /opt/anaconda3/lib/python3.12/site-packages (from pyautogui) (0.1.3)\n",
      "Requirement already satisfied: pyobjc-core in /opt/anaconda3/lib/python3.12/site-packages (from pyautogui) (10.3.1)\n",
      "Requirement already satisfied: pyobjc-framework-quartz in /opt/anaconda3/lib/python3.12/site-packages (from pyautogui) (10.3.1)\n",
      "Requirement already satisfied: pyrect in /opt/anaconda3/lib/python3.12/site-packages (from pygetwindow>=0.0.5->pyautogui) (0.2.0)\n",
      "Requirement already satisfied: pyperclip in /opt/anaconda3/lib/python3.12/site-packages (from mouseinfo->pyautogui) (1.9.0)\n",
      "Requirement already satisfied: rubicon-objc in /opt/anaconda3/lib/python3.12/site-packages (from mouseinfo->pyautogui) (0.4.9)\n",
      "Requirement already satisfied: pyobjc-framework-Cocoa>=10.3.1 in /opt/anaconda3/lib/python3.12/site-packages (from pyobjc-framework-quartz->pyautogui) (10.3.1)\n",
      "Note: you may need to restart the kernel to use updated packages.\n"
     ]
    }
   ],
   "source": [
    "pip install pyautogui"
   ]
  },
  {
   "cell_type": "code",
   "execution_count": 23,
   "id": "6c50c761-bfe3-4861-acdb-ddee6da3fc05",
   "metadata": {},
   "outputs": [],
   "source": [
    "import pyautogui as pg"
   ]
  },
  {
   "cell_type": "code",
   "execution_count": 6,
   "id": "42c90f64-8b2b-4551-8b3d-b00eb02b194e",
   "metadata": {},
   "outputs": [
    {
     "name": "stdout",
     "output_type": "stream",
     "text": [
      "Collecting opencv-python\n",
      "  Downloading opencv_python-4.10.0.84-cp37-abi3-macosx_11_0_arm64.whl.metadata (20 kB)\n",
      "Requirement already satisfied: numpy>=1.21.2 in /opt/anaconda3/lib/python3.12/site-packages (from opencv-python) (1.26.4)\n",
      "Downloading opencv_python-4.10.0.84-cp37-abi3-macosx_11_0_arm64.whl (54.8 MB)\n",
      "\u001b[2K   \u001b[90m━━━━━━━━━━━━━━━━━━━━━━━━━━━━━━━━━━━━━━━━\u001b[0m \u001b[32m54.8/54.8 MB\u001b[0m \u001b[31m19.1 MB/s\u001b[0m eta \u001b[36m0:00:00\u001b[0m00:01\u001b[0m00:01\u001b[0m\n",
      "\u001b[?25hInstalling collected packages: opencv-python\n",
      "Successfully installed opencv-python-4.10.0.84\n",
      "Note: you may need to restart the kernel to use updated packages.\n"
     ]
    }
   ],
   "source": [
    "pip install opencv-python"
   ]
  },
  {
   "cell_type": "code",
   "execution_count": null,
   "id": "59ce00b9-a51f-401c-b0e6-29960f911129",
   "metadata": {},
   "outputs": [],
   "source": [
    "# Check working directory"
   ]
  },
  {
   "cell_type": "code",
   "execution_count": 7,
   "id": "6ff2bcfb-521d-44a2-8804-779a691eb14d",
   "metadata": {},
   "outputs": [
    {
     "data": {
      "text/plain": [
       "'/Users/nataliehuang/Desktop/DATA2399 '"
      ]
     },
     "execution_count": 7,
     "metadata": {},
     "output_type": "execute_result"
    }
   ],
   "source": [
    "pwd"
   ]
  },
  {
   "cell_type": "code",
   "execution_count": null,
   "id": "bdc5b0fd-a381-49ca-9494-c2aa27be5664",
   "metadata": {},
   "outputs": [],
   "source": [
    "# move to document folder"
   ]
  },
  {
   "cell_type": "code",
   "execution_count": 9,
   "id": "1284c13c-8d2c-4d13-a83e-b5ffb8e6a59e",
   "metadata": {},
   "outputs": [
    {
     "name": "stdout",
     "output_type": "stream",
     "text": [
      "DATA2399_Classnote_Natalie.ipynb\n"
     ]
    }
   ],
   "source": [
    "ls"
   ]
  },
  {
   "cell_type": "code",
   "execution_count": 13,
   "id": "dc31a597-976c-40f6-9b45-760924d899bf",
   "metadata": {},
   "outputs": [],
   "source": [
    "mkdir Documents"
   ]
  },
  {
   "cell_type": "code",
   "execution_count": 15,
   "id": "29ce4a8f-3bfa-4c20-a67e-50ad08ebbd73",
   "metadata": {},
   "outputs": [
    {
     "name": "stdout",
     "output_type": "stream",
     "text": [
      "DATA2399_Classnote_Natalie.ipynb  \u001b[34mDocuments\u001b[m\u001b[m/\n"
     ]
    }
   ],
   "source": [
    "ls"
   ]
  },
  {
   "cell_type": "code",
   "execution_count": 17,
   "id": "e208a908-1661-4fb1-ac9c-2b435260915d",
   "metadata": {},
   "outputs": [
    {
     "name": "stdout",
     "output_type": "stream",
     "text": [
      "/Users/nataliehuang/Desktop/DATA2399 /Documents\n"
     ]
    }
   ],
   "source": [
    "cd Documents"
   ]
  },
  {
   "cell_type": "code",
   "execution_count": 35,
   "id": "480baaf0-34ca-49d6-9efc-bf12ae9976b1",
   "metadata": {},
   "outputs": [
    {
     "data": {
      "text/plain": [
       "'/Users/nataliehuang/Desktop/DATA2399 /Documents'"
      ]
     },
     "execution_count": 35,
     "metadata": {},
     "output_type": "execute_result"
    }
   ],
   "source": [
    "pwd"
   ]
  },
  {
   "cell_type": "code",
   "execution_count": null,
   "id": "e368407c-eb15-4e54-b32b-8878a65293d7",
   "metadata": {},
   "outputs": [],
   "source": [
    "#pyautogui functions"
   ]
  },
  {
   "cell_type": "code",
   "execution_count": 37,
   "id": "3fe618ce-d743-4427-aa07-13b34815039a",
   "metadata": {},
   "outputs": [
    {
     "data": {
      "text/plain": [
       "Size(width=1470, height=956)"
      ]
     },
     "execution_count": 37,
     "metadata": {},
     "output_type": "execute_result"
    }
   ],
   "source": [
    "pg.size()"
   ]
  },
  {
   "cell_type": "code",
   "execution_count": 29,
   "id": "f7a288a2-089b-4987-a66a-daef96b9b705",
   "metadata": {},
   "outputs": [],
   "source": [
    "import time"
   ]
  },
  {
   "cell_type": "code",
   "execution_count": 31,
   "id": "a711826f-87dc-44ce-b613-63fba9a7150c",
   "metadata": {},
   "outputs": [],
   "source": [
    "time.sleep(5)"
   ]
  },
  {
   "cell_type": "code",
   "execution_count": null,
   "id": "8f68b71a-0b4b-44cc-b91f-3cbba3396cf7",
   "metadata": {},
   "outputs": [],
   "source": [
    "## mouse position"
   ]
  },
  {
   "cell_type": "code",
   "execution_count": 33,
   "id": "a9b0b141-7f9d-4b99-bee6-efa8b913bb22",
   "metadata": {},
   "outputs": [
    {
     "data": {
      "text/plain": [
       "Point(x=813, y=803)"
      ]
     },
     "execution_count": 33,
     "metadata": {},
     "output_type": "execute_result"
    }
   ],
   "source": [
    "pg.position()"
   ]
  },
  {
   "cell_type": "code",
   "execution_count": 39,
   "id": "b745ded4-6dfd-46b2-bb36-86ce8a3a9a61",
   "metadata": {},
   "outputs": [
    {
     "data": {
      "text/plain": [
       "Point(x=1343, y=68)"
      ]
     },
     "execution_count": 39,
     "metadata": {},
     "output_type": "execute_result"
    }
   ],
   "source": [
    "pg.position()"
   ]
  },
  {
   "cell_type": "code",
   "execution_count": 41,
   "id": "677e91b5-7172-4e27-ba92-59b1540a5e1a",
   "metadata": {},
   "outputs": [],
   "source": [
    "time.sleep(5)\n",
    "position = pg.position()"
   ]
  },
  {
   "cell_type": "code",
   "execution_count": 43,
   "id": "9877424f-e574-4f70-b10f-82d4ed1c0533",
   "metadata": {},
   "outputs": [
    {
     "data": {
      "text/plain": [
       "Point(x=741, y=821)"
      ]
     },
     "execution_count": 43,
     "metadata": {},
     "output_type": "execute_result"
    }
   ],
   "source": [
    "position"
   ]
  },
  {
   "cell_type": "code",
   "execution_count": null,
   "id": "549b5a8c-159a-46d1-85a6-7ba76231dc5c",
   "metadata": {},
   "outputs": [],
   "source": [
    "## move the mouse"
   ]
  },
  {
   "cell_type": "code",
   "execution_count": 49,
   "id": "028a9ce8-b80a-4fa9-84cb-81e9cfdcdcda",
   "metadata": {},
   "outputs": [],
   "source": [
    "pg.moveTo(position)"
   ]
  },
  {
   "cell_type": "code",
   "execution_count": 51,
   "id": "a884587a-9b3d-4caf-906e-c7f95dc132f5",
   "metadata": {},
   "outputs": [],
   "source": [
    "pg.moveTo(1343,68,2) #x,y,time"
   ]
  },
  {
   "cell_type": "code",
   "execution_count": null,
   "id": "63ef23c1-9fc3-4415-83b3-b34846047766",
   "metadata": {},
   "outputs": [],
   "source": [
    "## mouse click"
   ]
  },
  {
   "cell_type": "code",
   "execution_count": 53,
   "id": "20b72681-7e55-468a-94b4-d2d68ecba2dc",
   "metadata": {},
   "outputs": [
    {
     "data": {
      "text/plain": [
       "<function pyautogui.click(x=None, y=None, clicks=1, interval=0.0, button='primary', duration=0.0, tween=<function linear at 0x12f95f6a0>, logScreenshot=None, _pause=True)>"
      ]
     },
     "execution_count": 53,
     "metadata": {},
     "output_type": "execute_result"
    }
   ],
   "source": [
    "pg.click"
   ]
  },
  {
   "cell_type": "code",
   "execution_count": 55,
   "id": "d3ec27ab-8c09-4b57-9c7d-35cc250f4906",
   "metadata": {},
   "outputs": [
    {
     "data": {
      "text/plain": [
       "Point(x=827, y=57)"
      ]
     },
     "execution_count": 55,
     "metadata": {},
     "output_type": "execute_result"
    }
   ],
   "source": [
    "pg.position()"
   ]
  },
  {
   "cell_type": "code",
   "execution_count": 65,
   "id": "2031c2fe-e617-4924-8024-da7ac957a006",
   "metadata": {},
   "outputs": [],
   "source": [
    "time.sleep(5)\n",
    "position = pg.position()"
   ]
  },
  {
   "cell_type": "code",
   "execution_count": 67,
   "id": "da37043b-b8be-44d5-ba28-4daba1fddef8",
   "metadata": {},
   "outputs": [],
   "source": [
    "x,y=position"
   ]
  },
  {
   "cell_type": "code",
   "execution_count": 73,
   "id": "9486a691-63cf-4eec-8701-887ef81c68c1",
   "metadata": {},
   "outputs": [],
   "source": [
    "pg.moveTo(x,y,2)\n",
    "pg.click()"
   ]
  },
  {
   "cell_type": "code",
   "execution_count": 87,
   "id": "903d4c5c-2b4a-4d59-841f-aae90891e61f",
   "metadata": {},
   "outputs": [],
   "source": [
    "pg.moveTo(x,y,2)\n",
    "pg.doubleClick()"
   ]
  },
  {
   "cell_type": "code",
   "execution_count": 83,
   "id": "0342382f-2dbe-48fc-a7ba-1b01f5abc118",
   "metadata": {},
   "outputs": [],
   "source": [
    "pg.move(None,12,2)"
   ]
  },
  {
   "cell_type": "code",
   "execution_count": 111,
   "id": "f04603d7-c1e6-4b6a-ab65-0ebf5a65e5ae",
   "metadata": {},
   "outputs": [],
   "source": [
    "#opening a new tab and going to a website\n",
    "pg.moveTo(x,y,2)\n",
    "pg.click()\n",
    "time.sleep(1)\n",
    "pg.write('https://www.youtube.com/',0.1)\n",
    "pg.press('return')"
   ]
  }
 ],
 "metadata": {
  "kernelspec": {
   "display_name": "Python 3 (ipykernel)",
   "language": "python",
   "name": "python3"
  },
  "language_info": {
   "codemirror_mode": {
    "name": "ipython",
    "version": 3
   },
   "file_extension": ".py",
   "mimetype": "text/x-python",
   "name": "python",
   "nbconvert_exporter": "python",
   "pygments_lexer": "ipython3",
   "version": "3.12.4"
  }
 },
 "nbformat": 4,
 "nbformat_minor": 5
}
