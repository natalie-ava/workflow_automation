{
  "nbformat": 4,
  "nbformat_minor": 0,
  "metadata": {
    "colab": {
      "provenance": [],
      "authorship_tag": "ABX9TyPNjiF3N6pyuJtknSsOCtgl",
      "include_colab_link": true
    },
    "kernelspec": {
      "name": "python3",
      "display_name": "Python 3"
    },
    "language_info": {
      "name": "python"
    }
  },
  "cells": [
    {
      "cell_type": "markdown",
      "metadata": {
        "id": "view-in-github",
        "colab_type": "text"
      },
      "source": [
        "<a href=\"https://colab.research.google.com/github/natalie-ava/workflow_automation/blob/main/NHuang_CA_email_automation.ipynb\" target=\"_parent\"><img src=\"https://colab.research.google.com/assets/colab-badge.svg\" alt=\"Open In Colab\"/></a>"
      ]
    },
    {
      "cell_type": "markdown",
      "source": [
        "Create a Python program that automates sending emails with Gmail, allowing for plain text, HTML-formatted emails, attachments, and customized bulk emails to multiple recipients."
      ],
      "metadata": {
        "id": "rOv_H0ln2ERo"
      }
    },
    {
      "cell_type": "code",
      "source": [
        "import smtplib\n",
        "import ssl\n",
        "from email.mime.text import MIMEText\n",
        "from email.mime.multipart import MIMEMultipart"
      ],
      "metadata": {
        "id": "4NCauoVnz-oy"
      },
      "execution_count": null,
      "outputs": []
    },
    {
      "cell_type": "code",
      "source": [
        "# App Password: Workflow_Automation\n",
        "test_p = 'usxmygyzkepirift'"
      ],
      "metadata": {
        "id": "AI-Cdpid7LsM"
      },
      "execution_count": null,
      "outputs": []
    },
    {
      "cell_type": "code",
      "source": [
        "# Email List\n",
        "email_list = [\n",
        "    {\"email\": \"practiceautomation59@gmail.com\", \"name\": \"Emilio\"},\n",
        "    {\"email\": \"automation.practice.madison@gmail.com\", \"name\": \"Madison\"},\n",
        "    {\"email\": \"automation.practice.natalie@gmail.com\", \"name\": \"Natalie\"},\n",
        "    {\"email\": \"rafiul208@gmail.com\", \"name\": \"Dr. Islam\"}\n",
        "]"
      ],
      "metadata": {
        "id": "YW74b3UP60KE"
      },
      "execution_count": null,
      "outputs": []
    },
    {
      "cell_type": "code",
      "source": [
        "email_list"
      ],
      "metadata": {
        "colab": {
          "base_uri": "https://localhost:8080/"
        },
        "id": "p1ZQ1rtR5dHU",
        "outputId": "80400c95-6e2b-4bd6-b854-4fdc34dad816"
      },
      "execution_count": null,
      "outputs": [
        {
          "output_type": "execute_result",
          "data": {
            "text/plain": [
              "[{'email': 'practiceautomation59@gmail.com', 'name': 'Emilio'},\n",
              " {'email': 'automation.practice.madison@gmail.com', 'name': 'Madison'},\n",
              " {'email': 'automation.practice.natalie@gmail.com', 'name': 'Natalie'},\n",
              " {'email': 'rafiul208@gmail.com', 'name': 'Dr. Islam'}]"
            ]
          },
          "metadata": {},
          "execution_count": 27
        }
      ]
    },
    {
      "cell_type": "markdown",
      "source": [
        "##Plain Text\n"
      ],
      "metadata": {
        "id": "rs3X0VOO2pav"
      }
    },
    {
      "cell_type": "code",
      "source": [
        "# Email details\n",
        "sender_email = \"automation.practice.natalie@gmail.com\"\n",
        "receiver_email = email_list\n",
        "app_password = test_p\n",
        "\n",
        "# Email content\n",
        "subject = \"Hi There!\"\n",
        "body = \"\"\"\n",
        "Hi {name},\n",
        "\n",
        "This is a customized message just for you.\n",
        "\n",
        "Warm regards,\n",
        "Natalie\n",
        "\"\"\"\n",
        "\n",
        "# Set up MIME\n",
        "message = MIMEMultipart()\n",
        "message[\"From\"] = sender_email\n",
        "message[\"To\"] = \", \".join([recipient[\"email\"] for recipient in receiver_email])\n",
        "message[\"Subject\"] = subject\n",
        "\n",
        "# Attach the body with the message\n",
        "message.attach(MIMEText(body, \"plain\"))\n",
        "\n",
        "# Set up the secure SSL context\n",
        "context = ssl.create_default_context()\n",
        "\n",
        "# Send the email using Gmail's SMTP server\n",
        "try:\n",
        "    with smtplib.SMTP_SSL(\"smtp.gmail.com\", 465, context=context) as server:\n",
        "        server.login(sender_email, app_password)\n",
        "        for recipient in receiver_email:\n",
        "            # Customize the email body for each recipient\n",
        "            personalized_body = body.format(name=recipient[\"name\"])\n",
        "            # Create a new MIMEMultipart object for each recipient\n",
        "            personalized_message = MIMEMultipart()\n",
        "            personalized_message[\"From\"] = sender_email\n",
        "            personalized_message[\"To\"] = recipient[\"email\"]\n",
        "            personalized_message[\"Subject\"] = subject\n",
        "            personalized_message.attach(MIMEText(personalized_body, \"plain\"))\n",
        "\n",
        "            server.sendmail(sender_email, recipient[\"email\"], personalized_message.as_string()) # Sendmail with individual recipient emails\n",
        "    print(\"Email sent successfully!\")\n",
        "except Exception as e:\n",
        "    print(f\"Error sending email: {e}\")"
      ],
      "metadata": {
        "colab": {
          "base_uri": "https://localhost:8080/"
        },
        "id": "8XodPtHr6mHw",
        "outputId": "86f7c68c-8879-41e8-eaff-e5b5c9f9e655"
      },
      "execution_count": null,
      "outputs": [
        {
          "output_type": "stream",
          "name": "stdout",
          "text": [
            "Email sent successfully!\n"
          ]
        }
      ]
    },
    {
      "cell_type": "markdown",
      "source": [
        "## HTML Content"
      ],
      "metadata": {
        "id": "x6cV0KQS2sRA"
      }
    },
    {
      "cell_type": "code",
      "execution_count": null,
      "metadata": {
        "id": "5eedcc9b-053c-4222-95f5-ac3d6dad17ba",
        "colab": {
          "base_uri": "https://localhost:8080/"
        },
        "outputId": "31e21b21-df1c-4e3b-bd77-b1cfe91cd386"
      },
      "outputs": [
        {
          "output_type": "stream",
          "name": "stdout",
          "text": [
            "Email sent successfully!\n"
          ]
        }
      ],
      "source": [
        "# Email content\n",
        "subject = \"Hi! Here's an HTML!\"\n",
        "html_content = \"\"\"\n",
        "<html>\n",
        "  <body>\n",
        "    <h2>Do you want to send automated emails too?</h2>\n",
        "    <p>Hi there <b>{name}</b>,</p>\n",
        "    <p>This is an <b>automated email</b> sent using <i>Python and Gmail</i>.</p>\n",
        "    <p>Click <a href='https://www.youtube.com/watch?v=g_j6ILT-X0k&t=165s'>here</a> to watch a Youtube video that teaches you how to do this too!</p>\n",
        "    <p>Warm regards,<br>Natalie</p>\n",
        "  </body>\n",
        "</html>\n",
        "\"\"\"\n",
        "\n",
        "# Email details\n",
        "sender_email = \"automation.practice.natalie@gmail.com\"\n",
        "receiver_email = email_list\n",
        "app_password = test_p\n",
        "\n",
        "# Create the email message\n",
        "message = MIMEMultipart()\n",
        "message[\"From\"] = sender_email\n",
        "message[\"To\"] = receiver_email\n",
        "message[\"Subject\"] = subject\n",
        "# Attach the body with the message\n",
        "message.attach(MIMEText(html_content, \"html\"))\n",
        "\n",
        "# Set up the secure SSL context\n",
        "context = ssl.create_default_context()\n",
        "\n",
        "# Send the email using Gmail's SMTP server\n",
        "try:\n",
        "    with smtplib.SMTP_SSL(\"smtp.gmail.com\", 465, context=context) as server:\n",
        "        server.login(sender_email, app_password)\n",
        "        for recipient in receiver_email:\n",
        "            # Customize the email body for each recipient\n",
        "            personalized_body = html_content.format(name=recipient[\"name\"])\n",
        "            # Create a new MIMEMultipart object for each recipient\n",
        "            personalized_message = MIMEMultipart()\n",
        "            personalized_message[\"Subject\"] = subject\n",
        "            personalized_message.attach(MIMEText(personalized_body, \"html\"))\n",
        "            server.sendmail(sender_email, recipient[\"email\"], personalized_message.as_string()) # Sendmail with individual recipient emails\n",
        "    print(\"Email sent successfully!\")\n",
        "except Exception as e:\n",
        "    print(f\"Error sending email: {e}\")"
      ]
    },
    {
      "cell_type": "markdown",
      "source": [
        "## Attachments"
      ],
      "metadata": {
        "id": "fQ2mSLi32vUn"
      }
    },
    {
      "cell_type": "code",
      "source": [
        "from email.mime.base import MIMEBase\n",
        "from email import encoders"
      ],
      "metadata": {
        "id": "MgMOhJYkBYIt"
      },
      "execution_count": null,
      "outputs": []
    },
    {
      "cell_type": "code",
      "source": [
        "#email content\n",
        "subject = \"Hi! Here's an Attachment!\"\n",
        "body = \"\"\"\n",
        "Hi {name},\n",
        "\n",
        "This is an automated email with a cute photo of my pet! Her name is Gia, and she's a calico persian cat.\n",
        "\n",
        "Warm regards,\n",
        "Natalie\n",
        "\"\"\"\n",
        "\n",
        "# Email details\n",
        "sender_email = \"automation.practice.natalie@gmail.com\"\n",
        "receiver_email = email_list\n",
        "app_password = test_p\n",
        "\n",
        "# Create the email message\n",
        "message = MIMEMultipart()\n",
        "message[\"From\"] = sender_email\n",
        "message[\"To\"] = \", \".join([recipient[\"email\"] for recipient in receiver_email])\n",
        "message[\"Subject\"] = subject\n",
        "\n",
        "# Attach the body with the message\n",
        "message.attach(MIMEText(body, \"plain\"))\n",
        "\n",
        "# Add attachment\n",
        "filename = \"Gia.JPG\"  # Replace with the actual filename\n",
        "with open(filename, \"rb\") as attachment:\n",
        "    part = MIMEBase(\"application\", \"octet-stream\")\n",
        "    part.set_payload(attachment.read())\n",
        "\n",
        "encoders.encode_base64(part)\n",
        "part.add_header(\n",
        "    \"Content-Disposition\",\n",
        "    f\"attachment; filename= {filename}\",\n",
        ")\n",
        "\n",
        "message.attach(part)\n",
        "\n",
        "# Set up the secure SSL context\n",
        "context = ssl.create_default_context()\n",
        "\n",
        "# Send the email using Gmail's SMTP server\n",
        "try:\n",
        "    with smtplib.SMTP_SSL(\"smtp.gmail.com\", 465, context=context) as server:\n",
        "        server.login(sender_email, app_password)\n",
        "        for recipient in receiver_email:\n",
        "            # Customize the email body for each recipient\n",
        "            personalized_body = body.format(name=recipient[\"name\"])\n",
        "            # Create a new MIMEMultipart object for each recipient\n",
        "            personalized_message = MIMEMultipart()\n",
        "            personalized_message[\"From\"] = sender_email\n",
        "            personalized_message[\"To\"] = recipient[\"email\"]\n",
        "            personalized_message[\"Subject\"] = subject\n",
        "            personalized_message.attach(MIMEText(personalized_body, \"plain\"))\n",
        "\n",
        "            # Add attachment to the personalized message\n",
        "            personalized_message.attach(part)\n",
        "\n",
        "            server.sendmail(sender_email, recipient[\"email\"], personalized_message.as_string())\n",
        "    print(\"Email sent successfully!\")\n",
        "except Exception as e:\n",
        "    print(f\"Error sending email: {e}\")"
      ],
      "metadata": {
        "id": "jzNSH0SrDpXM"
      },
      "execution_count": null,
      "outputs": []
    }
  ]
}