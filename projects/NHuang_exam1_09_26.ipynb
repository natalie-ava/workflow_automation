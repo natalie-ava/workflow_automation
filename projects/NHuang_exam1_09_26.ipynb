{
  "cells": [
    {
      "cell_type": "markdown",
      "metadata": {
        "id": "view-in-github",
        "colab_type": "text"
      },
      "source": [
        "<a href=\"https://colab.research.google.com/github/natalie-ava/workflow_automation/blob/main/NHuang_exam1_09_26.ipynb\" target=\"_parent\"><img src=\"https://colab.research.google.com/assets/colab-badge.svg\" alt=\"Open In Colab\"/></a>"
      ]
    },
    {
      "cell_type": "markdown",
      "id": "462de115-fd1d-46b1-83fe-e98760117398",
      "metadata": {
        "id": "462de115-fd1d-46b1-83fe-e98760117398"
      },
      "source": [
        "# Lists: Practice Examples and Questions"
      ]
    },
    {
      "cell_type": "markdown",
      "id": "3e2c5383-20e0-4fd5-9b72-77364db68eec",
      "metadata": {
        "id": "3e2c5383-20e0-4fd5-9b72-77364db68eec"
      },
      "source": [
        "## Accessing List Elements"
      ]
    },
    {
      "cell_type": "markdown",
      "id": "98d412bd-288e-4e80-b17c-86ba62d11ad4",
      "metadata": {
        "id": "98d412bd-288e-4e80-b17c-86ba62d11ad4"
      },
      "source": [
        "**Example:**\n",
        "Write a function get_first_element that returns the first element of a list."
      ]
    },
    {
      "cell_type": "code",
      "execution_count": null,
      "id": "4ec0e63c-8548-47ae-a06a-b5b2f21b0a68",
      "metadata": {
        "id": "4ec0e63c-8548-47ae-a06a-b5b2f21b0a68",
        "outputId": "8faa4819-fd3d-4633-8c51-5963e766e7d8",
        "colab": {
          "base_uri": "https://localhost:8080/"
        }
      },
      "outputs": [
        {
          "output_type": "stream",
          "name": "stdout",
          "text": [
            "10\n"
          ]
        }
      ],
      "source": [
        "def get_first_element(lst):\n",
        "    return lst[0]\n",
        "\n",
        "print(get_first_element([10, 20, 30]))  # Output should be 10"
      ]
    },
    {
      "cell_type": "markdown",
      "id": "10cdd760-51a1-4c6b-a0e9-546ffa8a7452",
      "metadata": {
        "id": "10cdd760-51a1-4c6b-a0e9-546ffa8a7452"
      },
      "source": [
        "**Question:** Write a function get_last_element that returns the last element of a given list."
      ]
    },
    {
      "cell_type": "code",
      "execution_count": null,
      "id": "9b483b32-d92b-4382-bf86-267c9997fb03",
      "metadata": {
        "id": "9b483b32-d92b-4382-bf86-267c9997fb03",
        "colab": {
          "base_uri": "https://localhost:8080/"
        },
        "outputId": "9117f81e-b216-44e7-d0d8-71c7d4f2a856"
      },
      "outputs": [
        {
          "output_type": "execute_result",
          "data": {
            "text/plain": [
              "4"
            ]
          },
          "metadata": {},
          "execution_count": 39
        }
      ],
      "source": [
        "# your code goes here\n",
        "def get_last_element(lst):\n",
        "    return lst[-1]\n",
        "\n",
        "get_last_element([1, 2, 3, 4])  # Should return 4"
      ]
    },
    {
      "cell_type": "markdown",
      "source": [
        "## Question 2: Inserting Elements into a List\n",
        "Write a function insert_element that inserts an element at the second position in the list."
      ],
      "metadata": {
        "id": "UW352EWD9q5Q"
      },
      "id": "UW352EWD9q5Q"
    },
    {
      "cell_type": "code",
      "execution_count": null,
      "metadata": {
        "id": "uYBdThh8-uga",
        "colab": {
          "base_uri": "https://localhost:8080/"
        },
        "outputId": "821a65c3-4685-48b6-d655-bf5488932509"
      },
      "outputs": [
        {
          "output_type": "execute_result",
          "data": {
            "text/plain": [
              "[1, 2, 3, 4]"
            ]
          },
          "metadata": {},
          "execution_count": 40
        }
      ],
      "source": [
        "def insert_element(lst, element):\n",
        "    lst.insert(1, element)\n",
        "    return lst\n",
        "\n",
        "insert_element([1, 3, 4], 2)  # Should return [1, 2, 3, 4]"
      ],
      "id": "uYBdThh8-uga"
    },
    {
      "cell_type": "markdown",
      "id": "9d8f41a6-abb9-41f6-a5c6-aa973b05581c",
      "metadata": {
        "id": "9d8f41a6-abb9-41f6-a5c6-aa973b05581c"
      },
      "source": [
        "# String Manipulations: Practice Examples and Questions"
      ]
    },
    {
      "cell_type": "markdown",
      "id": "80361a61-a46b-481b-a776-cf023b1c6b2d",
      "metadata": {
        "id": "80361a61-a46b-481b-a776-cf023b1c6b2d"
      },
      "source": [
        "## Example String Concatenation"
      ]
    },
    {
      "cell_type": "markdown",
      "id": "a6e4a61a-83de-48ff-8330-157ecd4d1d37",
      "metadata": {
        "id": "a6e4a61a-83de-48ff-8330-157ecd4d1d37"
      },
      "source": [
        "**Example:** Write a function concat_strings that concatenates two strings."
      ]
    },
    {
      "cell_type": "code",
      "execution_count": null,
      "id": "5172a3ee-8efd-4a1e-b814-d12da8594878",
      "metadata": {
        "id": "5172a3ee-8efd-4a1e-b814-d12da8594878",
        "outputId": "4e330645-df33-4d4e-9aa2-3063748eab34",
        "colab": {
          "base_uri": "https://localhost:8080/"
        }
      },
      "outputs": [
        {
          "output_type": "stream",
          "name": "stdout",
          "text": [
            "Hello World\n"
          ]
        }
      ],
      "source": [
        "def concat_strings(s1, s2):\n",
        "    return s1 + \" \" + s2\n",
        "\n",
        "print(concat_strings(\"Hello\", \"World\"))  # Output should be \"Hello World\""
      ]
    },
    {
      "cell_type": "markdown",
      "id": "4be32b93-1d55-435b-8130-321a1f4ee30a",
      "metadata": {
        "id": "4be32b93-1d55-435b-8130-321a1f4ee30a"
      },
      "source": [
        "**Question:** String Concatenation\n",
        "Write a function full_name that concatenates a first name and last name with a space in between."
      ]
    },
    {
      "cell_type": "code",
      "execution_count": null,
      "id": "81e91cbe-2fe8-44c9-8360-5d9c0964a8fe",
      "metadata": {
        "id": "81e91cbe-2fe8-44c9-8360-5d9c0964a8fe",
        "colab": {
          "base_uri": "https://localhost:8080/",
          "height": 35
        },
        "outputId": "34bb2e5e-2b0f-43a4-d290-4a7cb1ce9ee3"
      },
      "outputs": [
        {
          "output_type": "execute_result",
          "data": {
            "text/plain": [
              "'John Doe'"
            ],
            "application/vnd.google.colaboratory.intrinsic+json": {
              "type": "string"
            }
          },
          "metadata": {},
          "execution_count": 42
        }
      ],
      "source": [
        "# your code goes here\n",
        "def full_name(first_name, last_name):\n",
        "    return first_name + \" \" + last_name\n",
        "\n",
        "full_name(\"John\", \"Doe\")  # Should return \"John Doe\""
      ]
    },
    {
      "cell_type": "markdown",
      "source": [
        "# Question 4: Reverse a String\n",
        "Write a Python function reverse_string that takes a string as input and returns the string reversed."
      ],
      "metadata": {
        "id": "Bo2Jlb17-hhm"
      },
      "id": "Bo2Jlb17-hhm"
    },
    {
      "cell_type": "code",
      "source": [
        "def reverse_string(s):\n",
        "    return s[::-1]\n",
        "\n",
        "reverse_string(\"datascience\")  # Should return \"ecneicsatad\""
      ],
      "metadata": {
        "id": "J6wNUN83_GF9",
        "colab": {
          "base_uri": "https://localhost:8080/",
          "height": 35
        },
        "outputId": "f1733107-f8a8-4be1-84db-21ae6561d81d"
      },
      "execution_count": null,
      "outputs": [
        {
          "output_type": "execute_result",
          "data": {
            "text/plain": [
              "'ecneicsatad'"
            ],
            "application/vnd.google.colaboratory.intrinsic+json": {
              "type": "string"
            }
          },
          "metadata": {},
          "execution_count": 43
        }
      ],
      "id": "J6wNUN83_GF9"
    },
    {
      "cell_type": "markdown",
      "source": [
        "# Qustion 5: Count Vowels\n",
        "Write a function count_a that counts the number of times the letter 'a' appears in a given string.\n"
      ],
      "metadata": {
        "id": "1c_q1t7u_REg"
      },
      "id": "1c_q1t7u_REg"
    },
    {
      "cell_type": "code",
      "source": [
        "def count_a(s):\n",
        "    return s.count('a')\n",
        "\n",
        "print(count_a(\"banana\"))  # Output should be 3\n"
      ],
      "metadata": {
        "colab": {
          "base_uri": "https://localhost:8080/"
        },
        "id": "Ve6thF3B_2-i",
        "outputId": "ce538cf6-c817-4887-cd22-b8b4d227ba1d"
      },
      "execution_count": null,
      "outputs": [
        {
          "output_type": "stream",
          "name": "stdout",
          "text": [
            "3\n"
          ]
        }
      ],
      "id": "Ve6thF3B_2-i"
    },
    {
      "cell_type": "markdown",
      "source": [
        "Write a function count_vowels that takes a string as input and returns the count of vowels `(a, e, i, o, u)` in the string"
      ],
      "metadata": {
        "id": "NxV-YglP_9ST"
      },
      "id": "NxV-YglP_9ST"
    },
    {
      "cell_type": "code",
      "source": [
        "def count_vowels(s):\n",
        "    vowels = \"aeiou\"\n",
        "    count = 0\n",
        "    for char in s:\n",
        "        if char.lower() in vowels:\n",
        "            count += 1\n",
        "    return count\n",
        "\n",
        "count_vowels(\"datascience\")  # Should return 5"
      ],
      "metadata": {
        "id": "KSInmgXqAAaS",
        "colab": {
          "base_uri": "https://localhost:8080/"
        },
        "outputId": "3eab3fc0-67d9-434f-c6f1-d2377a4a0bd6"
      },
      "execution_count": null,
      "outputs": [
        {
          "output_type": "execute_result",
          "data": {
            "text/plain": [
              "5"
            ]
          },
          "metadata": {},
          "execution_count": 44
        }
      ],
      "id": "KSInmgXqAAaS"
    },
    {
      "cell_type": "markdown",
      "source": [
        "# Question 6: Fibonacci Sequence\n",
        "Practice Example:\n",
        "Write a function fibonacci_iterative that returns the first n numbers of the Fibonacci sequence using an iterative approach."
      ],
      "metadata": {
        "id": "WBfMI4OFAMxY"
      },
      "id": "WBfMI4OFAMxY"
    },
    {
      "cell_type": "code",
      "source": [
        "def fibonacci_iterative(n):\n",
        "    fib_sequence = [0, 1]\n",
        "    for i in range(2, n):\n",
        "        fib_sequence.append(fib_sequence[i-1] + fib_sequence[i-2])\n",
        "    return fib_sequence[:n]\n",
        "\n",
        "print(fibonacci_iterative(6))  # Output should be [0, 1, 1, 2, 3, 5]\n"
      ],
      "metadata": {
        "colab": {
          "base_uri": "https://localhost:8080/"
        },
        "id": "nKoMJgIsAU-Q",
        "outputId": "fa905fb0-6a00-4ce3-8209-6cc9c2fc8f8a"
      },
      "execution_count": null,
      "outputs": [
        {
          "output_type": "stream",
          "name": "stdout",
          "text": [
            "[0, 1, 1, 2, 3, 5]\n"
          ]
        }
      ],
      "id": "nKoMJgIsAU-Q"
    },
    {
      "cell_type": "markdown",
      "source": [
        "Write a function fibonacci_recursive(n) that returns the first n numbers in the Fibonacci sequence using recursion."
      ],
      "metadata": {
        "id": "yCDhx55KAbix"
      },
      "id": "yCDhx55KAbix"
    },
    {
      "cell_type": "code",
      "source": [
        "# your code goes here\n",
        "def fibonacci_recursive(n):\n",
        "    if n <= 0:\n",
        "        return []\n",
        "    elif n == 1:\n",
        "        return [0]\n",
        "    elif n == 2:\n",
        "        return [0, 1]\n",
        "\n",
        "    fib_sequence = fibonacci_recursive(n - 1)\n",
        "    fib_sequence.append(fib_sequence[-1] + fib_sequence[-2])\n",
        "    return fib_sequence\n",
        "\n",
        "fibonacci_recursive(6)  # Should return [0, 1, 1, 2, 3, 5]"
      ],
      "metadata": {
        "id": "SEuSPnk-AcQB",
        "colab": {
          "base_uri": "https://localhost:8080/"
        },
        "outputId": "cb353eb3-a88f-4464-ef8f-8833b8bc9bf4"
      },
      "execution_count": null,
      "outputs": [
        {
          "output_type": "execute_result",
          "data": {
            "text/plain": [
              "[0, 1, 1, 2, 3, 5]"
            ]
          },
          "metadata": {},
          "execution_count": 45
        }
      ],
      "id": "SEuSPnk-AcQB"
    },
    {
      "cell_type": "markdown",
      "source": [
        "# Question 7: Simple Calculator\n",
        "Practice Example:\n",
        "Define a function called simple_add that takes two numbers as arguments and returns their sum."
      ],
      "metadata": {
        "id": "VKFDnEBeApX8"
      },
      "id": "VKFDnEBeApX8"
    },
    {
      "cell_type": "code",
      "source": [
        "def simple_add(a, b):\n",
        "    return a + b\n",
        "\n",
        "print(simple_add(5, 3))  # Output should be 8\n"
      ],
      "metadata": {
        "colab": {
          "base_uri": "https://localhost:8080/"
        },
        "id": "V0Lr_ekrAsyr",
        "outputId": "81d1d205-2df2-42e6-fc20-e21aca22ce09"
      },
      "execution_count": null,
      "outputs": [
        {
          "output_type": "stream",
          "name": "stdout",
          "text": [
            "8\n"
          ]
        }
      ],
      "id": "V0Lr_ekrAsyr"
    },
    {
      "cell_type": "markdown",
      "source": [
        "**Simple Calculator**\n",
        "Write a function calculator that takes three inputs: two numbers and a string representing a mathematical operator `(+, -, *, /)`. Based on the operator, return the result of the operation on the two numbers."
      ],
      "metadata": {
        "id": "-MmHSSa6Aw9I"
      },
      "id": "-MmHSSa6Aw9I"
    },
    {
      "cell_type": "code",
      "source": [
        "# your code goes here\n",
        "def calculator(a,b,operator):\n",
        "  if operator == '+':\n",
        "    return a + b\n",
        "  elif operator == '-':\n",
        "    return a - b\n",
        "  elif operator == '*':\n",
        "    return a * b\n",
        "  elif operator == '/':\n",
        "    return a / b"
      ],
      "metadata": {
        "id": "d2JGuJIEC152"
      },
      "id": "d2JGuJIEC152",
      "execution_count": null,
      "outputs": []
    },
    {
      "cell_type": "code",
      "source": [
        "calculator(10, 5, '+')  # Should return 15"
      ],
      "metadata": {
        "colab": {
          "base_uri": "https://localhost:8080/"
        },
        "id": "1-lQ3astCrYZ",
        "outputId": "d3bede84-de0b-4edc-bc6b-a85151f59b9a"
      },
      "id": "1-lQ3astCrYZ",
      "execution_count": null,
      "outputs": [
        {
          "output_type": "execute_result",
          "data": {
            "text/plain": [
              "15"
            ]
          },
          "metadata": {},
          "execution_count": 54
        }
      ]
    },
    {
      "cell_type": "code",
      "source": [
        "calculator(10, 5, '*')  # Should return 50"
      ],
      "metadata": {
        "colab": {
          "base_uri": "https://localhost:8080/"
        },
        "id": "DMpYSmXRCvl4",
        "outputId": "23e33dd1-b9b8-4972-bdf3-419cdee90b3e"
      },
      "id": "DMpYSmXRCvl4",
      "execution_count": null,
      "outputs": [
        {
          "output_type": "execute_result",
          "data": {
            "text/plain": [
              "50"
            ]
          },
          "metadata": {},
          "execution_count": 55
        }
      ]
    },
    {
      "cell_type": "markdown",
      "source": [
        "# Question 8: Control Structures: Write a Python program that takes a number as input and checks whether it is even or odd."
      ],
      "metadata": {
        "id": "1lJIcMXjBUBP"
      },
      "id": "1lJIcMXjBUBP"
    },
    {
      "cell_type": "code",
      "source": [
        "def even_or_odd(num):\n",
        "    if num % 2 == 0:\n",
        "        return \"Even\"\n",
        "    else:\n",
        "        return \"Odd\""
      ],
      "metadata": {
        "id": "KLYky3atBCPO"
      },
      "execution_count": null,
      "outputs": [],
      "id": "KLYky3atBCPO"
    },
    {
      "cell_type": "code",
      "source": [
        "even_or_odd(18)  # Should return \"Even\""
      ],
      "metadata": {
        "colab": {
          "base_uri": "https://localhost:8080/",
          "height": 35
        },
        "id": "EfveiJf-E45E",
        "outputId": "1e85044d-4bb2-4ae9-e267-c5ee4d742e1c"
      },
      "id": "EfveiJf-E45E",
      "execution_count": null,
      "outputs": [
        {
          "output_type": "execute_result",
          "data": {
            "text/plain": [
              "'Even'"
            ],
            "application/vnd.google.colaboratory.intrinsic+json": {
              "type": "string"
            }
          },
          "metadata": {},
          "execution_count": 60
        }
      ]
    },
    {
      "cell_type": "code",
      "source": [
        "even_or_odd(5)  # Should return \"Odd\""
      ],
      "metadata": {
        "colab": {
          "base_uri": "https://localhost:8080/",
          "height": 35
        },
        "id": "TyeBQlW0E6cz",
        "outputId": "01e9d0c1-0770-4395-e171-393ed7784881"
      },
      "id": "TyeBQlW0E6cz",
      "execution_count": null,
      "outputs": [
        {
          "output_type": "execute_result",
          "data": {
            "text/plain": [
              "'Odd'"
            ],
            "application/vnd.google.colaboratory.intrinsic+json": {
              "type": "string"
            }
          },
          "metadata": {},
          "execution_count": 61
        }
      ]
    },
    {
      "cell_type": "markdown",
      "source": [
        "# Question 9: What is the difference between append() and extend() in lists? Give examples."
      ],
      "metadata": {
        "id": "3zrIefI2ClcV"
      },
      "id": "3zrIefI2ClcV"
    },
    {
      "cell_type": "markdown",
      "source": [
        "**ANSWER**: Both append() and extend() are used to add elements to a list. However, append() adds a single element while extend() adds multiple elements from an iterable (like a list, tuple, or string) to the end of the list.  "
      ],
      "metadata": {
        "id": "8kC-vRrEFWsH"
      },
      "id": "8kC-vRrEFWsH"
    },
    {
      "cell_type": "code",
      "source": [
        "# append() example\n",
        "list = [1,2,3,4]\n",
        "list.append(5)\n",
        "\n",
        "print(list)  # Output should be [1,2,3,4,5]"
      ],
      "metadata": {
        "id": "TcfuuhphCuqt",
        "colab": {
          "base_uri": "https://localhost:8080/"
        },
        "outputId": "cd346274-afcb-4dfd-8cf7-297482e9c363"
      },
      "execution_count": null,
      "outputs": [
        {
          "output_type": "stream",
          "name": "stdout",
          "text": [
            "[1, 2, 3, 4, 5]\n"
          ]
        }
      ],
      "id": "TcfuuhphCuqt"
    },
    {
      "cell_type": "code",
      "source": [
        "# extend() example\n",
        "list = [1,2,3,4]\n",
        "list_2 = [5,6,7,8]\n",
        "\n",
        "list.extend(list_2)\n",
        "\n",
        "print(list)  # Output should be [1,2,3,4,5,6,7,8]"
      ],
      "metadata": {
        "colab": {
          "base_uri": "https://localhost:8080/"
        },
        "id": "36r8cIZ5GCvN",
        "outputId": "70c8f44f-4a93-45b5-fab5-ea1fb04b455d"
      },
      "id": "36r8cIZ5GCvN",
      "execution_count": null,
      "outputs": [
        {
          "output_type": "stream",
          "name": "stdout",
          "text": [
            "[1, 2, 3, 4, 5, 6, 7, 8]\n"
          ]
        }
      ]
    },
    {
      "cell_type": "code",
      "source": [
        "# extend() example 2\n",
        "list = [1,2,3,4]\n",
        "list.extend([5,6,7,8])\n",
        "\n",
        "print(list)  # Output should be [1,2,3,4,5,6,7,8]"
      ],
      "metadata": {
        "colab": {
          "base_uri": "https://localhost:8080/"
        },
        "id": "9X2b5NI5GV4c",
        "outputId": "3fa4c4e6-ca48-41da-95c6-7191a4c7a4d7"
      },
      "id": "9X2b5NI5GV4c",
      "execution_count": null,
      "outputs": [
        {
          "output_type": "stream",
          "name": "stdout",
          "text": [
            "[1, 2, 3, 4, 5, 6, 7, 8]\n"
          ]
        }
      ]
    },
    {
      "cell_type": "markdown",
      "source": [
        "# Question 10: Why do we use `set` in Python and what are its advantages, give example?"
      ],
      "metadata": {
        "id": "EMDFUjuWDsnT"
      },
      "id": "EMDFUjuWDsnT"
    },
    {
      "cell_type": "markdown",
      "source": [
        "**Answer**: A set is an unordered collection of unique elements. Sets are useful for their mathematical properties and efficiency in certain operations. For example, sets automatically enforce the uniqueness of elements, which ignores duplicate items. It is also easier to check for the presence of certain items in a set. Additionally, sets are mutable, meaning you can add or remove elements. However, the elements contained in a set must be immutable (e.g., strings, numbers, tuples)."
      ],
      "metadata": {
        "id": "r-VVt9mKC-yF"
      },
      "id": "r-VVt9mKC-yF"
    },
    {
      "cell_type": "code",
      "source": [
        "set = {1,2,3,4,5}\n",
        "set.add(6)\n",
        "print(set)"
      ],
      "metadata": {
        "colab": {
          "base_uri": "https://localhost:8080/"
        },
        "id": "UY78A-XjIDt4",
        "outputId": "f3051b61-32db-4b38-d9cd-ce34a77767a0"
      },
      "id": "UY78A-XjIDt4",
      "execution_count": null,
      "outputs": [
        {
          "output_type": "stream",
          "name": "stdout",
          "text": [
            "{1, 3, 4, 5, 6}\n"
          ]
        }
      ]
    },
    {
      "cell_type": "code",
      "source": [
        "set.remove(2)\n",
        "print(set)"
      ],
      "metadata": {
        "colab": {
          "base_uri": "https://localhost:8080/"
        },
        "id": "yk4KOGv7M-a6",
        "outputId": "dc7cb206-a7b5-4136-a552-1f3a32694dc0"
      },
      "id": "yk4KOGv7M-a6",
      "execution_count": null,
      "outputs": [
        {
          "output_type": "stream",
          "name": "stdout",
          "text": [
            "{1, 3, 4, 5, 6}\n"
          ]
        }
      ]
    },
    {
      "cell_type": "code",
      "source": [
        "list_data = ['csv', 'git', 'ipynb', 'jpeg', 'png', 'csv', 'git', 'ipynb', 'jpeg', 'png']\n",
        "set_data = set(list_data)\n",
        "print(set_data) # Print the newly created set"
      ],
      "metadata": {
        "colab": {
          "base_uri": "https://localhost:8080/"
        },
        "id": "5M0OwSQ3OV_G",
        "outputId": "cc4d3972-8108-4d13-b2df-3cee9388e6eb"
      },
      "id": "5M0OwSQ3OV_G",
      "execution_count": null,
      "outputs": [
        {
          "output_type": "stream",
          "name": "stdout",
          "text": [
            "{'csv', 'jpeg', 'ipynb', 'git', 'png'}\n"
          ]
        }
      ]
    },
    {
      "cell_type": "markdown",
      "source": [
        "# Question 11: Explain why we use the shutil.copy2() function in Python. How is it different from shutil.copy() and shutil.copyfile()?"
      ],
      "metadata": {
        "id": "4Qn-p69KC_m8"
      },
      "id": "4Qn-p69KC_m8"
    },
    {
      "cell_type": "markdown",
      "source": [
        "**Answer**: We use shutil.copy2() when copying and moving a file because it preserves the metadata (like the modification time, creation time, etc.). While shutil.copy() and shutil.copyfile() also are used to copy and move files, neither one copies the metadata. Shutil.copy() copies the file's contents and the permission mode, and shutil.copyfile() copies the file contents from the source to the destination."
      ],
      "metadata": {
        "id": "nd04_uZADFbW"
      },
      "id": "nd04_uZADFbW"
    },
    {
      "cell_type": "markdown",
      "source": [
        "# Question 12: Using `try` for Exception Handling\n",
        "\n",
        "Write a Python function `divide_numbers` that takes two arguments, `a` and `b`, and returns the result of dividing `a` by `b`. Use a `try-except` block to handle the case where `b` is zero, and raise a `ValueError` with a custom message `\"Cannot divide by zero\"` if a division by zero occurs.\n",
        "\n",
        "**Example Output**:\n",
        "```python\n",
        "divide_numbers(10, 2)  # Should return 5.0\n",
        "divide_numbers(10, 0)  # Should raise ValueError: \"Cannot divide by zero\"\n",
        "```"
      ],
      "metadata": {
        "id": "62mLBZQgH626"
      },
      "id": "62mLBZQgH626"
    },
    {
      "cell_type": "code",
      "source": [
        "def divide_numbers(a,b):\n",
        "  try:\n",
        "    return a / b\n",
        "  except ZeroDivisionError:\n",
        "    print(\"Cannot divide by zero\")"
      ],
      "metadata": {
        "id": "JkYlrRU7IF5-"
      },
      "id": "JkYlrRU7IF5-",
      "execution_count": null,
      "outputs": []
    },
    {
      "cell_type": "code",
      "source": [
        "divide_numbers(10, 2)  # Should return 5.0"
      ],
      "metadata": {
        "colab": {
          "base_uri": "https://localhost:8080/"
        },
        "id": "ryV0fAS7IUSS",
        "outputId": "4f256874-7f92-42b0-e920-c6e53e2cba09"
      },
      "id": "ryV0fAS7IUSS",
      "execution_count": null,
      "outputs": [
        {
          "output_type": "execute_result",
          "data": {
            "text/plain": [
              "5.0"
            ]
          },
          "metadata": {},
          "execution_count": 69
        }
      ]
    },
    {
      "cell_type": "code",
      "source": [
        "divide_numbers(10, 0)  # Should raise ValueError: \"Cannot divide by zero\""
      ],
      "metadata": {
        "colab": {
          "base_uri": "https://localhost:8080/"
        },
        "id": "jTYf5__DIWma",
        "outputId": "5405899d-6e65-4407-8e81-e78da98d87fd"
      },
      "id": "jTYf5__DIWma",
      "execution_count": null,
      "outputs": [
        {
          "output_type": "stream",
          "name": "stdout",
          "text": [
            "Cannot divide by zero\n"
          ]
        }
      ]
    },
    {
      "cell_type": "markdown",
      "source": [
        "#Question 13: What is a lambda function in Python and when is it useful? Give example using DataFrame."
      ],
      "metadata": {
        "id": "ZAqO-4FXD601"
      },
      "id": "ZAqO-4FXD601"
    },
    {
      "cell_type": "markdown",
      "source": [
        "**Answer**: A lambda function is a function that can take any number of arguments but can only have one expression. It is useful to use when functions are passed as arguments or in data manipulation libraries with pandas. It is especially useful with DataFrame when we want to apply a function to columns or rows without creating a separate named function."
      ],
      "metadata": {
        "id": "PevRHGjCEGAf"
      },
      "id": "PevRHGjCEGAf"
    },
    {
      "cell_type": "code",
      "source": [
        "import pandas as pd"
      ],
      "metadata": {
        "id": "50vVmXUNEH-X"
      },
      "execution_count": null,
      "outputs": [],
      "id": "50vVmXUNEH-X"
    },
    {
      "cell_type": "code",
      "source": [
        "df = pd.DataFrame({'Name': ['Peter','John','Tom'], 'Age': [25, 30, 35], 'Job': ['Artist', 'Lawyer', 'Doctor'],'Salary': [20000, 100000, 250000]})\n",
        "df"
      ],
      "metadata": {
        "colab": {
          "base_uri": "https://localhost:8080/",
          "height": 143
        },
        "id": "pLfFQl1FIxjc",
        "outputId": "28e0a96e-74f6-46fd-8e1f-4f9832e469a7"
      },
      "id": "pLfFQl1FIxjc",
      "execution_count": null,
      "outputs": [
        {
          "output_type": "execute_result",
          "data": {
            "text/plain": [
              "    Name  Age     Job  Salary\n",
              "0  Peter   25  Artist   20000\n",
              "1   John   30  Lawyer  100000\n",
              "2    Tom   35  Doctor  250000"
            ],
            "text/html": [
              "\n",
              "  <div id=\"df-475a6599-a445-4c9c-affe-6fd7a2a359f2\" class=\"colab-df-container\">\n",
              "    <div>\n",
              "<style scoped>\n",
              "    .dataframe tbody tr th:only-of-type {\n",
              "        vertical-align: middle;\n",
              "    }\n",
              "\n",
              "    .dataframe tbody tr th {\n",
              "        vertical-align: top;\n",
              "    }\n",
              "\n",
              "    .dataframe thead th {\n",
              "        text-align: right;\n",
              "    }\n",
              "</style>\n",
              "<table border=\"1\" class=\"dataframe\">\n",
              "  <thead>\n",
              "    <tr style=\"text-align: right;\">\n",
              "      <th></th>\n",
              "      <th>Name</th>\n",
              "      <th>Age</th>\n",
              "      <th>Job</th>\n",
              "      <th>Salary</th>\n",
              "    </tr>\n",
              "  </thead>\n",
              "  <tbody>\n",
              "    <tr>\n",
              "      <th>0</th>\n",
              "      <td>Peter</td>\n",
              "      <td>25</td>\n",
              "      <td>Artist</td>\n",
              "      <td>20000</td>\n",
              "    </tr>\n",
              "    <tr>\n",
              "      <th>1</th>\n",
              "      <td>John</td>\n",
              "      <td>30</td>\n",
              "      <td>Lawyer</td>\n",
              "      <td>100000</td>\n",
              "    </tr>\n",
              "    <tr>\n",
              "      <th>2</th>\n",
              "      <td>Tom</td>\n",
              "      <td>35</td>\n",
              "      <td>Doctor</td>\n",
              "      <td>250000</td>\n",
              "    </tr>\n",
              "  </tbody>\n",
              "</table>\n",
              "</div>\n",
              "    <div class=\"colab-df-buttons\">\n",
              "\n",
              "  <div class=\"colab-df-container\">\n",
              "    <button class=\"colab-df-convert\" onclick=\"convertToInteractive('df-475a6599-a445-4c9c-affe-6fd7a2a359f2')\"\n",
              "            title=\"Convert this dataframe to an interactive table.\"\n",
              "            style=\"display:none;\">\n",
              "\n",
              "  <svg xmlns=\"http://www.w3.org/2000/svg\" height=\"24px\" viewBox=\"0 -960 960 960\">\n",
              "    <path d=\"M120-120v-720h720v720H120Zm60-500h600v-160H180v160Zm220 220h160v-160H400v160Zm0 220h160v-160H400v160ZM180-400h160v-160H180v160Zm440 0h160v-160H620v160ZM180-180h160v-160H180v160Zm440 0h160v-160H620v160Z\"/>\n",
              "  </svg>\n",
              "    </button>\n",
              "\n",
              "  <style>\n",
              "    .colab-df-container {\n",
              "      display:flex;\n",
              "      gap: 12px;\n",
              "    }\n",
              "\n",
              "    .colab-df-convert {\n",
              "      background-color: #E8F0FE;\n",
              "      border: none;\n",
              "      border-radius: 50%;\n",
              "      cursor: pointer;\n",
              "      display: none;\n",
              "      fill: #1967D2;\n",
              "      height: 32px;\n",
              "      padding: 0 0 0 0;\n",
              "      width: 32px;\n",
              "    }\n",
              "\n",
              "    .colab-df-convert:hover {\n",
              "      background-color: #E2EBFA;\n",
              "      box-shadow: 0px 1px 2px rgba(60, 64, 67, 0.3), 0px 1px 3px 1px rgba(60, 64, 67, 0.15);\n",
              "      fill: #174EA6;\n",
              "    }\n",
              "\n",
              "    .colab-df-buttons div {\n",
              "      margin-bottom: 4px;\n",
              "    }\n",
              "\n",
              "    [theme=dark] .colab-df-convert {\n",
              "      background-color: #3B4455;\n",
              "      fill: #D2E3FC;\n",
              "    }\n",
              "\n",
              "    [theme=dark] .colab-df-convert:hover {\n",
              "      background-color: #434B5C;\n",
              "      box-shadow: 0px 1px 3px 1px rgba(0, 0, 0, 0.15);\n",
              "      filter: drop-shadow(0px 1px 2px rgba(0, 0, 0, 0.3));\n",
              "      fill: #FFFFFF;\n",
              "    }\n",
              "  </style>\n",
              "\n",
              "    <script>\n",
              "      const buttonEl =\n",
              "        document.querySelector('#df-475a6599-a445-4c9c-affe-6fd7a2a359f2 button.colab-df-convert');\n",
              "      buttonEl.style.display =\n",
              "        google.colab.kernel.accessAllowed ? 'block' : 'none';\n",
              "\n",
              "      async function convertToInteractive(key) {\n",
              "        const element = document.querySelector('#df-475a6599-a445-4c9c-affe-6fd7a2a359f2');\n",
              "        const dataTable =\n",
              "          await google.colab.kernel.invokeFunction('convertToInteractive',\n",
              "                                                    [key], {});\n",
              "        if (!dataTable) return;\n",
              "\n",
              "        const docLinkHtml = 'Like what you see? Visit the ' +\n",
              "          '<a target=\"_blank\" href=https://colab.research.google.com/notebooks/data_table.ipynb>data table notebook</a>'\n",
              "          + ' to learn more about interactive tables.';\n",
              "        element.innerHTML = '';\n",
              "        dataTable['output_type'] = 'display_data';\n",
              "        await google.colab.output.renderOutput(dataTable, element);\n",
              "        const docLink = document.createElement('div');\n",
              "        docLink.innerHTML = docLinkHtml;\n",
              "        element.appendChild(docLink);\n",
              "      }\n",
              "    </script>\n",
              "  </div>\n",
              "\n",
              "\n",
              "<div id=\"df-3d2b2279-938a-4c10-b4c3-c9a7927f3706\">\n",
              "  <button class=\"colab-df-quickchart\" onclick=\"quickchart('df-3d2b2279-938a-4c10-b4c3-c9a7927f3706')\"\n",
              "            title=\"Suggest charts\"\n",
              "            style=\"display:none;\">\n",
              "\n",
              "<svg xmlns=\"http://www.w3.org/2000/svg\" height=\"24px\"viewBox=\"0 0 24 24\"\n",
              "     width=\"24px\">\n",
              "    <g>\n",
              "        <path d=\"M19 3H5c-1.1 0-2 .9-2 2v14c0 1.1.9 2 2 2h14c1.1 0 2-.9 2-2V5c0-1.1-.9-2-2-2zM9 17H7v-7h2v7zm4 0h-2V7h2v10zm4 0h-2v-4h2v4z\"/>\n",
              "    </g>\n",
              "</svg>\n",
              "  </button>\n",
              "\n",
              "<style>\n",
              "  .colab-df-quickchart {\n",
              "      --bg-color: #E8F0FE;\n",
              "      --fill-color: #1967D2;\n",
              "      --hover-bg-color: #E2EBFA;\n",
              "      --hover-fill-color: #174EA6;\n",
              "      --disabled-fill-color: #AAA;\n",
              "      --disabled-bg-color: #DDD;\n",
              "  }\n",
              "\n",
              "  [theme=dark] .colab-df-quickchart {\n",
              "      --bg-color: #3B4455;\n",
              "      --fill-color: #D2E3FC;\n",
              "      --hover-bg-color: #434B5C;\n",
              "      --hover-fill-color: #FFFFFF;\n",
              "      --disabled-bg-color: #3B4455;\n",
              "      --disabled-fill-color: #666;\n",
              "  }\n",
              "\n",
              "  .colab-df-quickchart {\n",
              "    background-color: var(--bg-color);\n",
              "    border: none;\n",
              "    border-radius: 50%;\n",
              "    cursor: pointer;\n",
              "    display: none;\n",
              "    fill: var(--fill-color);\n",
              "    height: 32px;\n",
              "    padding: 0;\n",
              "    width: 32px;\n",
              "  }\n",
              "\n",
              "  .colab-df-quickchart:hover {\n",
              "    background-color: var(--hover-bg-color);\n",
              "    box-shadow: 0 1px 2px rgba(60, 64, 67, 0.3), 0 1px 3px 1px rgba(60, 64, 67, 0.15);\n",
              "    fill: var(--button-hover-fill-color);\n",
              "  }\n",
              "\n",
              "  .colab-df-quickchart-complete:disabled,\n",
              "  .colab-df-quickchart-complete:disabled:hover {\n",
              "    background-color: var(--disabled-bg-color);\n",
              "    fill: var(--disabled-fill-color);\n",
              "    box-shadow: none;\n",
              "  }\n",
              "\n",
              "  .colab-df-spinner {\n",
              "    border: 2px solid var(--fill-color);\n",
              "    border-color: transparent;\n",
              "    border-bottom-color: var(--fill-color);\n",
              "    animation:\n",
              "      spin 1s steps(1) infinite;\n",
              "  }\n",
              "\n",
              "  @keyframes spin {\n",
              "    0% {\n",
              "      border-color: transparent;\n",
              "      border-bottom-color: var(--fill-color);\n",
              "      border-left-color: var(--fill-color);\n",
              "    }\n",
              "    20% {\n",
              "      border-color: transparent;\n",
              "      border-left-color: var(--fill-color);\n",
              "      border-top-color: var(--fill-color);\n",
              "    }\n",
              "    30% {\n",
              "      border-color: transparent;\n",
              "      border-left-color: var(--fill-color);\n",
              "      border-top-color: var(--fill-color);\n",
              "      border-right-color: var(--fill-color);\n",
              "    }\n",
              "    40% {\n",
              "      border-color: transparent;\n",
              "      border-right-color: var(--fill-color);\n",
              "      border-top-color: var(--fill-color);\n",
              "    }\n",
              "    60% {\n",
              "      border-color: transparent;\n",
              "      border-right-color: var(--fill-color);\n",
              "    }\n",
              "    80% {\n",
              "      border-color: transparent;\n",
              "      border-right-color: var(--fill-color);\n",
              "      border-bottom-color: var(--fill-color);\n",
              "    }\n",
              "    90% {\n",
              "      border-color: transparent;\n",
              "      border-bottom-color: var(--fill-color);\n",
              "    }\n",
              "  }\n",
              "</style>\n",
              "\n",
              "  <script>\n",
              "    async function quickchart(key) {\n",
              "      const quickchartButtonEl =\n",
              "        document.querySelector('#' + key + ' button');\n",
              "      quickchartButtonEl.disabled = true;  // To prevent multiple clicks.\n",
              "      quickchartButtonEl.classList.add('colab-df-spinner');\n",
              "      try {\n",
              "        const charts = await google.colab.kernel.invokeFunction(\n",
              "            'suggestCharts', [key], {});\n",
              "      } catch (error) {\n",
              "        console.error('Error during call to suggestCharts:', error);\n",
              "      }\n",
              "      quickchartButtonEl.classList.remove('colab-df-spinner');\n",
              "      quickchartButtonEl.classList.add('colab-df-quickchart-complete');\n",
              "    }\n",
              "    (() => {\n",
              "      let quickchartButtonEl =\n",
              "        document.querySelector('#df-3d2b2279-938a-4c10-b4c3-c9a7927f3706 button');\n",
              "      quickchartButtonEl.style.display =\n",
              "        google.colab.kernel.accessAllowed ? 'block' : 'none';\n",
              "    })();\n",
              "  </script>\n",
              "</div>\n",
              "\n",
              "  <div id=\"id_32eced4b-c099-47c6-9dd2-0f5d0b90eb43\">\n",
              "    <style>\n",
              "      .colab-df-generate {\n",
              "        background-color: #E8F0FE;\n",
              "        border: none;\n",
              "        border-radius: 50%;\n",
              "        cursor: pointer;\n",
              "        display: none;\n",
              "        fill: #1967D2;\n",
              "        height: 32px;\n",
              "        padding: 0 0 0 0;\n",
              "        width: 32px;\n",
              "      }\n",
              "\n",
              "      .colab-df-generate:hover {\n",
              "        background-color: #E2EBFA;\n",
              "        box-shadow: 0px 1px 2px rgba(60, 64, 67, 0.3), 0px 1px 3px 1px rgba(60, 64, 67, 0.15);\n",
              "        fill: #174EA6;\n",
              "      }\n",
              "\n",
              "      [theme=dark] .colab-df-generate {\n",
              "        background-color: #3B4455;\n",
              "        fill: #D2E3FC;\n",
              "      }\n",
              "\n",
              "      [theme=dark] .colab-df-generate:hover {\n",
              "        background-color: #434B5C;\n",
              "        box-shadow: 0px 1px 3px 1px rgba(0, 0, 0, 0.15);\n",
              "        filter: drop-shadow(0px 1px 2px rgba(0, 0, 0, 0.3));\n",
              "        fill: #FFFFFF;\n",
              "      }\n",
              "    </style>\n",
              "    <button class=\"colab-df-generate\" onclick=\"generateWithVariable('df')\"\n",
              "            title=\"Generate code using this dataframe.\"\n",
              "            style=\"display:none;\">\n",
              "\n",
              "  <svg xmlns=\"http://www.w3.org/2000/svg\" height=\"24px\"viewBox=\"0 0 24 24\"\n",
              "       width=\"24px\">\n",
              "    <path d=\"M7,19H8.4L18.45,9,17,7.55,7,17.6ZM5,21V16.75L18.45,3.32a2,2,0,0,1,2.83,0l1.4,1.43a1.91,1.91,0,0,1,.58,1.4,1.91,1.91,0,0,1-.58,1.4L9.25,21ZM18.45,9,17,7.55Zm-12,3A5.31,5.31,0,0,0,4.9,8.1,5.31,5.31,0,0,0,1,6.5,5.31,5.31,0,0,0,4.9,4.9,5.31,5.31,0,0,0,6.5,1,5.31,5.31,0,0,0,8.1,4.9,5.31,5.31,0,0,0,12,6.5,5.46,5.46,0,0,0,6.5,12Z\"/>\n",
              "  </svg>\n",
              "    </button>\n",
              "    <script>\n",
              "      (() => {\n",
              "      const buttonEl =\n",
              "        document.querySelector('#id_32eced4b-c099-47c6-9dd2-0f5d0b90eb43 button.colab-df-generate');\n",
              "      buttonEl.style.display =\n",
              "        google.colab.kernel.accessAllowed ? 'block' : 'none';\n",
              "\n",
              "      buttonEl.onclick = () => {\n",
              "        google.colab.notebook.generateWithVariable('df');\n",
              "      }\n",
              "      })();\n",
              "    </script>\n",
              "  </div>\n",
              "\n",
              "    </div>\n",
              "  </div>\n"
            ],
            "application/vnd.google.colaboratory.intrinsic+json": {
              "type": "dataframe",
              "variable_name": "df",
              "summary": "{\n  \"name\": \"df\",\n  \"rows\": 3,\n  \"fields\": [\n    {\n      \"column\": \"Name\",\n      \"properties\": {\n        \"dtype\": \"string\",\n        \"num_unique_values\": 3,\n        \"samples\": [\n          \"Peter\",\n          \"John\",\n          \"Tom\"\n        ],\n        \"semantic_type\": \"\",\n        \"description\": \"\"\n      }\n    },\n    {\n      \"column\": \"Age\",\n      \"properties\": {\n        \"dtype\": \"number\",\n        \"std\": 5,\n        \"min\": 25,\n        \"max\": 35,\n        \"num_unique_values\": 3,\n        \"samples\": [\n          25,\n          30,\n          35\n        ],\n        \"semantic_type\": \"\",\n        \"description\": \"\"\n      }\n    },\n    {\n      \"column\": \"Job\",\n      \"properties\": {\n        \"dtype\": \"string\",\n        \"num_unique_values\": 3,\n        \"samples\": [\n          \"Artist\",\n          \"Lawyer\",\n          \"Doctor\"\n        ],\n        \"semantic_type\": \"\",\n        \"description\": \"\"\n      }\n    },\n    {\n      \"column\": \"Salary\",\n      \"properties\": {\n        \"dtype\": \"number\",\n        \"std\": 116761,\n        \"min\": 20000,\n        \"max\": 250000,\n        \"num_unique_values\": 3,\n        \"samples\": [\n          20000,\n          100000,\n          250000\n        ],\n        \"semantic_type\": \"\",\n        \"description\": \"\"\n      }\n    }\n  ]\n}"
            }
          },
          "metadata": {},
          "execution_count": 82
        }
      ]
    },
    {
      "cell_type": "code",
      "source": [
        "# using lambda to create a category that sorts based on salary\n",
        "df['Salary_Category'] = df['Salary'].apply(lambda x: 'High' if x > 50000 else 'Low')\n",
        "df"
      ],
      "metadata": {
        "colab": {
          "base_uri": "https://localhost:8080/",
          "height": 143
        },
        "id": "kSoduqX-KHlr",
        "outputId": "ff62b4e3-19b3-403b-bf1e-d89cc7a96e0d"
      },
      "id": "kSoduqX-KHlr",
      "execution_count": null,
      "outputs": [
        {
          "output_type": "execute_result",
          "data": {
            "text/plain": [
              "    Name  Age     Job  Salary Salary_Category\n",
              "0  Peter   25  Artist   20000             Low\n",
              "1   John   30  Lawyer  100000            High\n",
              "2    Tom   35  Doctor  250000            High"
            ],
            "text/html": [
              "\n",
              "  <div id=\"df-cb118fce-cda9-41e2-b04e-21f39b57239d\" class=\"colab-df-container\">\n",
              "    <div>\n",
              "<style scoped>\n",
              "    .dataframe tbody tr th:only-of-type {\n",
              "        vertical-align: middle;\n",
              "    }\n",
              "\n",
              "    .dataframe tbody tr th {\n",
              "        vertical-align: top;\n",
              "    }\n",
              "\n",
              "    .dataframe thead th {\n",
              "        text-align: right;\n",
              "    }\n",
              "</style>\n",
              "<table border=\"1\" class=\"dataframe\">\n",
              "  <thead>\n",
              "    <tr style=\"text-align: right;\">\n",
              "      <th></th>\n",
              "      <th>Name</th>\n",
              "      <th>Age</th>\n",
              "      <th>Job</th>\n",
              "      <th>Salary</th>\n",
              "      <th>Salary_Category</th>\n",
              "    </tr>\n",
              "  </thead>\n",
              "  <tbody>\n",
              "    <tr>\n",
              "      <th>0</th>\n",
              "      <td>Peter</td>\n",
              "      <td>25</td>\n",
              "      <td>Artist</td>\n",
              "      <td>20000</td>\n",
              "      <td>Low</td>\n",
              "    </tr>\n",
              "    <tr>\n",
              "      <th>1</th>\n",
              "      <td>John</td>\n",
              "      <td>30</td>\n",
              "      <td>Lawyer</td>\n",
              "      <td>100000</td>\n",
              "      <td>High</td>\n",
              "    </tr>\n",
              "    <tr>\n",
              "      <th>2</th>\n",
              "      <td>Tom</td>\n",
              "      <td>35</td>\n",
              "      <td>Doctor</td>\n",
              "      <td>250000</td>\n",
              "      <td>High</td>\n",
              "    </tr>\n",
              "  </tbody>\n",
              "</table>\n",
              "</div>\n",
              "    <div class=\"colab-df-buttons\">\n",
              "\n",
              "  <div class=\"colab-df-container\">\n",
              "    <button class=\"colab-df-convert\" onclick=\"convertToInteractive('df-cb118fce-cda9-41e2-b04e-21f39b57239d')\"\n",
              "            title=\"Convert this dataframe to an interactive table.\"\n",
              "            style=\"display:none;\">\n",
              "\n",
              "  <svg xmlns=\"http://www.w3.org/2000/svg\" height=\"24px\" viewBox=\"0 -960 960 960\">\n",
              "    <path d=\"M120-120v-720h720v720H120Zm60-500h600v-160H180v160Zm220 220h160v-160H400v160Zm0 220h160v-160H400v160ZM180-400h160v-160H180v160Zm440 0h160v-160H620v160ZM180-180h160v-160H180v160Zm440 0h160v-160H620v160Z\"/>\n",
              "  </svg>\n",
              "    </button>\n",
              "\n",
              "  <style>\n",
              "    .colab-df-container {\n",
              "      display:flex;\n",
              "      gap: 12px;\n",
              "    }\n",
              "\n",
              "    .colab-df-convert {\n",
              "      background-color: #E8F0FE;\n",
              "      border: none;\n",
              "      border-radius: 50%;\n",
              "      cursor: pointer;\n",
              "      display: none;\n",
              "      fill: #1967D2;\n",
              "      height: 32px;\n",
              "      padding: 0 0 0 0;\n",
              "      width: 32px;\n",
              "    }\n",
              "\n",
              "    .colab-df-convert:hover {\n",
              "      background-color: #E2EBFA;\n",
              "      box-shadow: 0px 1px 2px rgba(60, 64, 67, 0.3), 0px 1px 3px 1px rgba(60, 64, 67, 0.15);\n",
              "      fill: #174EA6;\n",
              "    }\n",
              "\n",
              "    .colab-df-buttons div {\n",
              "      margin-bottom: 4px;\n",
              "    }\n",
              "\n",
              "    [theme=dark] .colab-df-convert {\n",
              "      background-color: #3B4455;\n",
              "      fill: #D2E3FC;\n",
              "    }\n",
              "\n",
              "    [theme=dark] .colab-df-convert:hover {\n",
              "      background-color: #434B5C;\n",
              "      box-shadow: 0px 1px 3px 1px rgba(0, 0, 0, 0.15);\n",
              "      filter: drop-shadow(0px 1px 2px rgba(0, 0, 0, 0.3));\n",
              "      fill: #FFFFFF;\n",
              "    }\n",
              "  </style>\n",
              "\n",
              "    <script>\n",
              "      const buttonEl =\n",
              "        document.querySelector('#df-cb118fce-cda9-41e2-b04e-21f39b57239d button.colab-df-convert');\n",
              "      buttonEl.style.display =\n",
              "        google.colab.kernel.accessAllowed ? 'block' : 'none';\n",
              "\n",
              "      async function convertToInteractive(key) {\n",
              "        const element = document.querySelector('#df-cb118fce-cda9-41e2-b04e-21f39b57239d');\n",
              "        const dataTable =\n",
              "          await google.colab.kernel.invokeFunction('convertToInteractive',\n",
              "                                                    [key], {});\n",
              "        if (!dataTable) return;\n",
              "\n",
              "        const docLinkHtml = 'Like what you see? Visit the ' +\n",
              "          '<a target=\"_blank\" href=https://colab.research.google.com/notebooks/data_table.ipynb>data table notebook</a>'\n",
              "          + ' to learn more about interactive tables.';\n",
              "        element.innerHTML = '';\n",
              "        dataTable['output_type'] = 'display_data';\n",
              "        await google.colab.output.renderOutput(dataTable, element);\n",
              "        const docLink = document.createElement('div');\n",
              "        docLink.innerHTML = docLinkHtml;\n",
              "        element.appendChild(docLink);\n",
              "      }\n",
              "    </script>\n",
              "  </div>\n",
              "\n",
              "\n",
              "<div id=\"df-4886f280-eea3-4da7-8aa7-cc68307e2d36\">\n",
              "  <button class=\"colab-df-quickchart\" onclick=\"quickchart('df-4886f280-eea3-4da7-8aa7-cc68307e2d36')\"\n",
              "            title=\"Suggest charts\"\n",
              "            style=\"display:none;\">\n",
              "\n",
              "<svg xmlns=\"http://www.w3.org/2000/svg\" height=\"24px\"viewBox=\"0 0 24 24\"\n",
              "     width=\"24px\">\n",
              "    <g>\n",
              "        <path d=\"M19 3H5c-1.1 0-2 .9-2 2v14c0 1.1.9 2 2 2h14c1.1 0 2-.9 2-2V5c0-1.1-.9-2-2-2zM9 17H7v-7h2v7zm4 0h-2V7h2v10zm4 0h-2v-4h2v4z\"/>\n",
              "    </g>\n",
              "</svg>\n",
              "  </button>\n",
              "\n",
              "<style>\n",
              "  .colab-df-quickchart {\n",
              "      --bg-color: #E8F0FE;\n",
              "      --fill-color: #1967D2;\n",
              "      --hover-bg-color: #E2EBFA;\n",
              "      --hover-fill-color: #174EA6;\n",
              "      --disabled-fill-color: #AAA;\n",
              "      --disabled-bg-color: #DDD;\n",
              "  }\n",
              "\n",
              "  [theme=dark] .colab-df-quickchart {\n",
              "      --bg-color: #3B4455;\n",
              "      --fill-color: #D2E3FC;\n",
              "      --hover-bg-color: #434B5C;\n",
              "      --hover-fill-color: #FFFFFF;\n",
              "      --disabled-bg-color: #3B4455;\n",
              "      --disabled-fill-color: #666;\n",
              "  }\n",
              "\n",
              "  .colab-df-quickchart {\n",
              "    background-color: var(--bg-color);\n",
              "    border: none;\n",
              "    border-radius: 50%;\n",
              "    cursor: pointer;\n",
              "    display: none;\n",
              "    fill: var(--fill-color);\n",
              "    height: 32px;\n",
              "    padding: 0;\n",
              "    width: 32px;\n",
              "  }\n",
              "\n",
              "  .colab-df-quickchart:hover {\n",
              "    background-color: var(--hover-bg-color);\n",
              "    box-shadow: 0 1px 2px rgba(60, 64, 67, 0.3), 0 1px 3px 1px rgba(60, 64, 67, 0.15);\n",
              "    fill: var(--button-hover-fill-color);\n",
              "  }\n",
              "\n",
              "  .colab-df-quickchart-complete:disabled,\n",
              "  .colab-df-quickchart-complete:disabled:hover {\n",
              "    background-color: var(--disabled-bg-color);\n",
              "    fill: var(--disabled-fill-color);\n",
              "    box-shadow: none;\n",
              "  }\n",
              "\n",
              "  .colab-df-spinner {\n",
              "    border: 2px solid var(--fill-color);\n",
              "    border-color: transparent;\n",
              "    border-bottom-color: var(--fill-color);\n",
              "    animation:\n",
              "      spin 1s steps(1) infinite;\n",
              "  }\n",
              "\n",
              "  @keyframes spin {\n",
              "    0% {\n",
              "      border-color: transparent;\n",
              "      border-bottom-color: var(--fill-color);\n",
              "      border-left-color: var(--fill-color);\n",
              "    }\n",
              "    20% {\n",
              "      border-color: transparent;\n",
              "      border-left-color: var(--fill-color);\n",
              "      border-top-color: var(--fill-color);\n",
              "    }\n",
              "    30% {\n",
              "      border-color: transparent;\n",
              "      border-left-color: var(--fill-color);\n",
              "      border-top-color: var(--fill-color);\n",
              "      border-right-color: var(--fill-color);\n",
              "    }\n",
              "    40% {\n",
              "      border-color: transparent;\n",
              "      border-right-color: var(--fill-color);\n",
              "      border-top-color: var(--fill-color);\n",
              "    }\n",
              "    60% {\n",
              "      border-color: transparent;\n",
              "      border-right-color: var(--fill-color);\n",
              "    }\n",
              "    80% {\n",
              "      border-color: transparent;\n",
              "      border-right-color: var(--fill-color);\n",
              "      border-bottom-color: var(--fill-color);\n",
              "    }\n",
              "    90% {\n",
              "      border-color: transparent;\n",
              "      border-bottom-color: var(--fill-color);\n",
              "    }\n",
              "  }\n",
              "</style>\n",
              "\n",
              "  <script>\n",
              "    async function quickchart(key) {\n",
              "      const quickchartButtonEl =\n",
              "        document.querySelector('#' + key + ' button');\n",
              "      quickchartButtonEl.disabled = true;  // To prevent multiple clicks.\n",
              "      quickchartButtonEl.classList.add('colab-df-spinner');\n",
              "      try {\n",
              "        const charts = await google.colab.kernel.invokeFunction(\n",
              "            'suggestCharts', [key], {});\n",
              "      } catch (error) {\n",
              "        console.error('Error during call to suggestCharts:', error);\n",
              "      }\n",
              "      quickchartButtonEl.classList.remove('colab-df-spinner');\n",
              "      quickchartButtonEl.classList.add('colab-df-quickchart-complete');\n",
              "    }\n",
              "    (() => {\n",
              "      let quickchartButtonEl =\n",
              "        document.querySelector('#df-4886f280-eea3-4da7-8aa7-cc68307e2d36 button');\n",
              "      quickchartButtonEl.style.display =\n",
              "        google.colab.kernel.accessAllowed ? 'block' : 'none';\n",
              "    })();\n",
              "  </script>\n",
              "</div>\n",
              "\n",
              "  <div id=\"id_f821bf82-6051-4057-b472-e6775bb0b490\">\n",
              "    <style>\n",
              "      .colab-df-generate {\n",
              "        background-color: #E8F0FE;\n",
              "        border: none;\n",
              "        border-radius: 50%;\n",
              "        cursor: pointer;\n",
              "        display: none;\n",
              "        fill: #1967D2;\n",
              "        height: 32px;\n",
              "        padding: 0 0 0 0;\n",
              "        width: 32px;\n",
              "      }\n",
              "\n",
              "      .colab-df-generate:hover {\n",
              "        background-color: #E2EBFA;\n",
              "        box-shadow: 0px 1px 2px rgba(60, 64, 67, 0.3), 0px 1px 3px 1px rgba(60, 64, 67, 0.15);\n",
              "        fill: #174EA6;\n",
              "      }\n",
              "\n",
              "      [theme=dark] .colab-df-generate {\n",
              "        background-color: #3B4455;\n",
              "        fill: #D2E3FC;\n",
              "      }\n",
              "\n",
              "      [theme=dark] .colab-df-generate:hover {\n",
              "        background-color: #434B5C;\n",
              "        box-shadow: 0px 1px 3px 1px rgba(0, 0, 0, 0.15);\n",
              "        filter: drop-shadow(0px 1px 2px rgba(0, 0, 0, 0.3));\n",
              "        fill: #FFFFFF;\n",
              "      }\n",
              "    </style>\n",
              "    <button class=\"colab-df-generate\" onclick=\"generateWithVariable('df')\"\n",
              "            title=\"Generate code using this dataframe.\"\n",
              "            style=\"display:none;\">\n",
              "\n",
              "  <svg xmlns=\"http://www.w3.org/2000/svg\" height=\"24px\"viewBox=\"0 0 24 24\"\n",
              "       width=\"24px\">\n",
              "    <path d=\"M7,19H8.4L18.45,9,17,7.55,7,17.6ZM5,21V16.75L18.45,3.32a2,2,0,0,1,2.83,0l1.4,1.43a1.91,1.91,0,0,1,.58,1.4,1.91,1.91,0,0,1-.58,1.4L9.25,21ZM18.45,9,17,7.55Zm-12,3A5.31,5.31,0,0,0,4.9,8.1,5.31,5.31,0,0,0,1,6.5,5.31,5.31,0,0,0,4.9,4.9,5.31,5.31,0,0,0,6.5,1,5.31,5.31,0,0,0,8.1,4.9,5.31,5.31,0,0,0,12,6.5,5.46,5.46,0,0,0,6.5,12Z\"/>\n",
              "  </svg>\n",
              "    </button>\n",
              "    <script>\n",
              "      (() => {\n",
              "      const buttonEl =\n",
              "        document.querySelector('#id_f821bf82-6051-4057-b472-e6775bb0b490 button.colab-df-generate');\n",
              "      buttonEl.style.display =\n",
              "        google.colab.kernel.accessAllowed ? 'block' : 'none';\n",
              "\n",
              "      buttonEl.onclick = () => {\n",
              "        google.colab.notebook.generateWithVariable('df');\n",
              "      }\n",
              "      })();\n",
              "    </script>\n",
              "  </div>\n",
              "\n",
              "    </div>\n",
              "  </div>\n"
            ],
            "application/vnd.google.colaboratory.intrinsic+json": {
              "type": "dataframe",
              "variable_name": "df",
              "summary": "{\n  \"name\": \"df\",\n  \"rows\": 3,\n  \"fields\": [\n    {\n      \"column\": \"Name\",\n      \"properties\": {\n        \"dtype\": \"string\",\n        \"num_unique_values\": 3,\n        \"samples\": [\n          \"Peter\",\n          \"John\",\n          \"Tom\"\n        ],\n        \"semantic_type\": \"\",\n        \"description\": \"\"\n      }\n    },\n    {\n      \"column\": \"Age\",\n      \"properties\": {\n        \"dtype\": \"number\",\n        \"std\": 5,\n        \"min\": 25,\n        \"max\": 35,\n        \"num_unique_values\": 3,\n        \"samples\": [\n          25,\n          30,\n          35\n        ],\n        \"semantic_type\": \"\",\n        \"description\": \"\"\n      }\n    },\n    {\n      \"column\": \"Job\",\n      \"properties\": {\n        \"dtype\": \"string\",\n        \"num_unique_values\": 3,\n        \"samples\": [\n          \"Artist\",\n          \"Lawyer\",\n          \"Doctor\"\n        ],\n        \"semantic_type\": \"\",\n        \"description\": \"\"\n      }\n    },\n    {\n      \"column\": \"Salary\",\n      \"properties\": {\n        \"dtype\": \"number\",\n        \"std\": 116761,\n        \"min\": 20000,\n        \"max\": 250000,\n        \"num_unique_values\": 3,\n        \"samples\": [\n          20000,\n          100000,\n          250000\n        ],\n        \"semantic_type\": \"\",\n        \"description\": \"\"\n      }\n    },\n    {\n      \"column\": \"Salary_Category\",\n      \"properties\": {\n        \"dtype\": \"string\",\n        \"num_unique_values\": 2,\n        \"samples\": [\n          \"High\",\n          \"Low\"\n        ],\n        \"semantic_type\": \"\",\n        \"description\": \"\"\n      }\n    }\n  ]\n}"
            }
          },
          "metadata": {},
          "execution_count": 83
        }
      ]
    }
  ],
  "metadata": {
    "kernelspec": {
      "display_name": "Python 3 (ipykernel)",
      "language": "python",
      "name": "python3"
    },
    "language_info": {
      "codemirror_mode": {
        "name": "ipython",
        "version": 3
      },
      "file_extension": ".py",
      "mimetype": "text/x-python",
      "name": "python",
      "nbconvert_exporter": "python",
      "pygments_lexer": "ipython3",
      "version": "3.9.13"
    },
    "colab": {
      "provenance": [],
      "include_colab_link": true
    }
  },
  "nbformat": 4,
  "nbformat_minor": 5
}
