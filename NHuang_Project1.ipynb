{
 "cells": [
  {
   "cell_type": "code",
   "execution_count": 4,
   "id": "70c8a3a5-746f-4249-ada8-bcdfdafb01d2",
   "metadata": {},
   "outputs": [],
   "source": [
    "import pyautogui as pg\n",
    "import time"
   ]
  },
  {
   "cell_type": "code",
   "execution_count": 46,
   "id": "3ac9de1b-589b-417d-a69d-3a23fca6e38b",
   "metadata": {},
   "outputs": [],
   "source": [
    "# open chrome"
   ]
  },
  {
   "cell_type": "code",
   "execution_count": 64,
   "id": "7d4f8437-9250-404a-8c1b-c424c0b05267",
   "metadata": {},
   "outputs": [],
   "source": [
    "#go to instagram\n",
    "time.sleep(2)\n",
    "pg.write('instagram.com',interval= 0.1)\n",
    "time.sleep(1)\n",
    "pg.press('enter')"
   ]
  },
  {
   "cell_type": "code",
   "execution_count": 65,
   "id": "4dde81f6-e135-4128-9d1b-9350ea882f50",
   "metadata": {},
   "outputs": [],
   "source": [
    "#log in\n",
    "time.sleep(3)\n",
    "pg.click(998,327)\n",
    "pg.write('dragon_fan_2024', interval=0.1)\n",
    "time.sleep(3)\n",
    "pg.click(1018,375)\n",
    "pg.write('Happy2021', interval=0.1)\n",
    "pg.press('enter')"
   ]
  },
  {
   "cell_type": "code",
   "execution_count": 72,
   "id": "324d2f80-74c0-47ea-8dd4-51505abacbbc",
   "metadata": {},
   "outputs": [],
   "source": [
    "#go to search and find Imagine Dragons\n",
    "time.sleep(3)\n",
    "pg.click(227,307)\n",
    "time.sleep(2)\n",
    "pg.write('Imagine Dragons', interval=0.1)\n",
    "time.sleep(2)\n",
    "pg.click(452,302)"
   ]
  },
  {
   "cell_type": "code",
   "execution_count": 73,
   "id": "cecaaa92-2fb1-4f52-9386-7412a988afd4",
   "metadata": {},
   "outputs": [],
   "source": [
    "# go to following\n",
    "time.sleep(3)\n",
    "pg.click(993,235)"
   ]
  },
  {
   "cell_type": "code",
   "execution_count": 74,
   "id": "9e2e77e8-96d4-4e99-badc-50dd9e02df58",
   "metadata": {},
   "outputs": [],
   "source": [
    "# click follow button\n",
    "time.sleep(3)\n",
    "def follow_accounts(x,y):\n",
    "    pg.click(x,y)\n",
    "    time.sleep(1)"
   ]
  },
  {
   "cell_type": "code",
   "execution_count": 75,
   "id": "f4ea5d25-1518-428c-bb52-7b5b0a0c068e",
   "metadata": {},
   "outputs": [],
   "source": [
    "#button coordinates\n",
    "button_1 = (960,473)\n",
    "button_2 = (960,533)\n",
    "button_3 = (960,593)\n",
    "button_4 = (960,653)"
   ]
  },
  {
   "cell_type": "code",
   "execution_count": 76,
   "id": "ada47924-f372-42c0-98c4-61458dbc5ae3",
   "metadata": {},
   "outputs": [],
   "source": [
    "#for loop\n",
    "for i in range(2):\n",
    "    follow_accounts(button_1[0],button_1[1])\n",
    "    time.sleep(2)\n",
    "    follow_accounts(button_2[0],button_2[1])\n",
    "    time.sleep(2)\n",
    "    follow_accounts(button_3[0],button_3[1])\n",
    "    time.sleep(2)\n",
    "    follow_accounts(button_4[0],button_4[1])\n",
    "    #down arrow click/next page"
   ]
  },
  {
   "cell_type": "code",
   "execution_count": null,
   "id": "583826f6-ebe1-4937-96c1-bd89138e8de2",
   "metadata": {},
   "outputs": [],
   "source": []
  },
  {
   "cell_type": "code",
   "execution_count": null,
   "id": "562eb333-bcbb-4c1e-b0ae-1132693f58c3",
   "metadata": {},
   "outputs": [],
   "source": []
  }
 ],
 "metadata": {
  "kernelspec": {
   "display_name": "Python 3 (ipykernel)",
   "language": "python",
   "name": "python3"
  },
  "language_info": {
   "codemirror_mode": {
    "name": "ipython",
    "version": 3
   },
   "file_extension": ".py",
   "mimetype": "text/x-python",
   "name": "python",
   "nbconvert_exporter": "python",
   "pygments_lexer": "ipython3",
   "version": "3.12.4"
  }
 },
 "nbformat": 4,
 "nbformat_minor": 5
}
